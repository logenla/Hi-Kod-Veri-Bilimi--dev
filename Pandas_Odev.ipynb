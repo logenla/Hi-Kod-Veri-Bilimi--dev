{
 "cells": [
  {
   "cell_type": "code",
   "execution_count": 3,
   "id": "e3632fbc",
   "metadata": {},
   "outputs": [],
   "source": [
    "sozluk = {\"Kategori\": [\"Giyim\",\"Giyim\", \"Ayakkabı\",\"Aksesuar\",\"Ayakkabı\",\"Giyim\",\"Aksesuar\",\"Aksesuar\",\"Ayakkabı\",\"Giyim\"],\n",
    "         \"Ürün\" : [\"Kazak\",\"T-shirt\",\"Sandalet\",\"Küpe\",\"Spor Ayakkabı\",\"Pantolon\",\"Kolye\",\"Yüzük\",\"Çizme\",\"Ceket\"],\n",
    "         \"Fiyat\" : [300,180,450,50,700,400,150,80,850,900]}"
   ]
  },
  {
   "cell_type": "markdown",
   "id": "e380a30f",
   "metadata": {},
   "source": [
    "##### 1. Yukarıdaki sözlüğü bir DataFrame haline getirin."
   ]
  },
  {
   "cell_type": "code",
   "execution_count": null,
   "id": "fa7a1757",
   "metadata": {},
   "outputs": [],
   "source": [
    "import numpy as np\n",
    "import pandas as pd\n",
    "dataFrame=pd.DataFrame(sozluk)\n",
    "print(dataFrame)"
   ]
  },
  {
   "cell_type": "markdown",
   "id": "fe81a0e9",
   "metadata": {},
   "source": [
    "##### 2. Aşağıdaki işlemleri dataframe üzerinde uygulayalım.\n",
    "- 2.indexde bulunan kategoriyi bulalım (Sadece kategori bilgisi) \n",
    "- 2.indexde bulunan ürünü bulalım (Sadece ürün bilgisi)\n",
    "- 4.indexden 9.indexe kadar olan verileri bulalım (Kategori,ürün,fiyat bilgisi beraber)\n",
    "- 1.indexden 6.indexe kadar olan ürünleri bulalım (Sadece ürün bilgisi)\n"
   ]
  },
  {
   "cell_type": "code",
   "execution_count": null,
   "id": "2baa9073",
   "metadata": {},
   "outputs": [],
   "source": [
    "print(df.loc[2,\"Ürün\"])\n",
    "print()rint(df.loc[2,\"Ürün\"])\n",
    "print(df.loc[4:9])\n",
    "print(df.loc[1:6,\"Ürün\"])\n"
   ]
  },
  {
   "cell_type": "markdown",
   "id": "18d5e3a5",
   "metadata": {},
   "source": [
    "##### 3. Aşağıdaki işlemleri dataframe üzerinde uygulayalım.\n",
    "- Giyim kategorisinde bulunan ürünleri gösterin\n",
    "- Ayakkabı kategorisinde bulunan ürünleri gösterin\n",
    "- Aksesuar kategorisinde bulunan ürünleri gösterin"
   ]
  },
  {
   "cell_type": "code",
   "execution_count": null,
   "id": "c12f603a",
   "metadata": {},
   "outputs": [],
   "source": [
    "df_giyim=df[df[\"Kategori\"]==\"Giyim\"]\n",
    "print(df_giyim)\n",
    "df_ayakkabı=df[df[\"Kategori\"]==\"Ayakkabı\"]\n",
    "print(df_ayakkabı)\n",
    "df_aksesuar=df[df[\"Kategori\"]==\"Aksesuar\"]\n",
    "print(df_aksesuar)"
   ]
  },
  {
   "cell_type": "markdown",
   "id": "5c31302a",
   "metadata": {},
   "source": [
    "##### 4 Aşağıdaki işlemleri dataframe üzerinde uygulayalım.\n",
    "- Giyim kategorisinde fiyatı 300'den fazla olan ürünleri gösterin\n",
    "- Ayakkabı kategorisinde fiyatı 600'den az olan ürünleri gösterin\n",
    "- Aksesuar kategorisinde fiyatı 100'den fazla olan aksesuarı gösterin"
   ]
  },
  {
   "cell_type": "code",
   "execution_count": null,
   "id": "cc96c65b",
   "metadata": {},
   "outputs": [],
   "source": [
    "df_giyim_300=df[(df[\"Kategori\"]==\"Giyim\")&(df[\"Fiyat\"]>300)]\n",
    "print(df_giyim_300)\n",
    "df_ayakkabı_600=df[(df[\"Kategori\"]==\"Ayakkabı\")&(df[\"Fiyat\"]<600)]\n",
    "print(df_ayakkabı_600)\n",
    "df_aksesuar_100=df[(df[\"Kategori\"]==\"Aksesuar\")&(df[\"Fiyat\"]>100)]\n",
    "print(df_aksesuar_100)"
   ]
  }
 ],
 "metadata": {
  "kernelspec": {
   "display_name": "Python 3 (ipykernel)",
   "language": "python",
   "name": "python3"
  },
  "language_info": {
   "codemirror_mode": {
    "name": "ipython",
    "version": 3
   },
   "file_extension": ".py",
   "mimetype": "text/x-python",
   "name": "python",
   "nbconvert_exporter": "python",
   "pygments_lexer": "ipython3",
   "version": "3.9.12"
  }
 },
 "nbformat": 4,
 "nbformat_minor": 5
}
