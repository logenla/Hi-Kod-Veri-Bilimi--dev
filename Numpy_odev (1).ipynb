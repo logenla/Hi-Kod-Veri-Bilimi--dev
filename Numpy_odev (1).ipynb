{
 "cells": [
  {
   "cell_type": "markdown",
   "id": "a0f6364d",
   "metadata": {},
   "source": [
    "##### 1.Sayılardan oluşan bir boyutlu array oluşturun. Arrayi oluştururken sayıların veri tipini integer olarak belirtelim.\n",
    "\n",
    "Oluşturulan arrayin boyut, eleman sayısı bilgilerine bakalım."
   ]
  },
  {
   "cell_type": "code",
   "execution_count": null,
   "id": "c16c30a6",
   "metadata": {},
   "outputs": [],
   "source": [
    "import numpy as np\n",
    "x=np.array([[1,2,5,8,9],[7,8.4,10/3,5,1.2]],dtype=int)\n",
    "print(x.size) #eleman sayısını veriyor\n",
    "print(x.shape) #boyutunu verir\n"
   ]
  },
  {
   "cell_type": "markdown",
   "id": "1681f851",
   "metadata": {},
   "source": [
    "##### 2. Aşağıda verilen iki boyutlu ve üç boyutlu arrayi oluşturalım. Bu arraylerin boyut, eleman sayısı, satır, sütun bilgilerine ulaşalım. \n",
    "\n",
    "İki boyutlu array:\n",
    "[[1,2,6,7],\n",
    " [4,3,9,5]]\n",
    "\n",
    "Üç boyutlu array:\n",
    "[[[7,5,14],[21,8,11]],\n",
    " [[8,6,20],[14,3,9]]]\n",
    "\n",
    " "
   ]
  },
  {
   "cell_type": "code",
   "execution_count": null,
   "id": "e3a138ed",
   "metadata": {},
   "outputs": [],
   "source": [
    "import numpy as np\n",
    "ikiboyutluarray=np.array([[1,2,6,7], [4,3,9,5]])\n",
    "üçboyutluarray=np.array([[[7,5,14],[21,8,11]], [[8,6,20],[14,3,9]]])\n",
    "#2 boyutlu dizilerde\n",
    "print(ikiboyutluarray.ndim)  #dizinin boyutunu verir\n",
    "print(ikiboyutluarray.size)  #dizinin eleman sayısını verir\n",
    "print(ikiboyutluarray.shape) #dizinin satır ve sütun bilgilerine ulaşırız.\n",
    "\n",
    "#3 boyutlu dizilerde\n",
    "print(üçboyutluarray.ndim)\n",
    "print(üçboyutluarray.size)\n",
    "print(üçboyutluarray.shape)"
   ]
  },
  {
   "cell_type": "markdown",
   "id": "b45192b0",
   "metadata": {},
   "source": [
    "##### 3. İstenilen elamanlara ulaşmak için arrayler üzerinde indexleme işlemi yapalım"
   ]
  },
  {
   "cell_type": "code",
   "execution_count": 1,
   "id": "563f9992",
   "metadata": {},
   "outputs": [],
   "source": [
    "#İki boyutlu arraydaki 2 elemanına ulaşalım\n",
    "print(ikiboyutluarray[0,1])"
   ]
  },
  {
   "cell_type": "code",
   "execution_count": 2,
   "id": "fd0a0be4",
   "metadata": {},
   "outputs": [],
   "source": [
    "#İki boyutlu arraydaki 7 elemanına ulaşalım\n",
    "print(ikiboyutluarray[0,3])"
   ]
  },
  {
   "cell_type": "code",
   "execution_count": 3,
   "id": "0c2b1884",
   "metadata": {},
   "outputs": [],
   "source": [
    "#Üç boyutlu arraydaki 9 elemanına ulaşalım\n",
    "print(üçboyutluarray[1,1,2])"
   ]
  },
  {
   "cell_type": "code",
   "execution_count": 4,
   "id": "0dc07d00",
   "metadata": {},
   "outputs": [],
   "source": [
    "#Üç boyutlu arraydaki 5 elemanına ulaşalım"
   ]
  },
  {
   "cell_type": "code",
   "outputs": [],
   "source": [
    "print(üçboyutluarray[0,0,1])"
   ],
   "metadata": {
    "collapsed": false
   },
   "id": "2b6646f6fa10c300"
  },
  {
   "cell_type": "markdown",
   "id": "12198bc9",
   "metadata": {},
   "source": [
    "##### 4. Arrayler üzerinde slicing işlemi uygulayalım."
   ]
  },
  {
   "cell_type": "code",
   "execution_count": 5,
   "id": "9d066ba1",
   "metadata": {},
   "outputs": [],
   "source": [
    "#İki boyutlu arraydaki 2,6 elemanlarına ulaşalım\n",
    "print(ikiboyutluarray[0,1:3])\n"
   ]
  },
  {
   "cell_type": "code",
   "execution_count": 6,
   "id": "e020f980",
   "metadata": {},
   "outputs": [],
   "source": [
    "#İki boyutlu arraydaki 3,9,5 elemanlarına ulaşalım\n",
    "print(ikiboyutluarray[1,1:,])"
   ]
  },
  {
   "cell_type": "code",
   "execution_count": 7,
   "id": "891bed31",
   "metadata": {},
   "outputs": [],
   "source": [
    "#Üç boyutlu arraydaki 21,8,11 elemanlarına ulaşalım\n",
    "print(üçboyutluarray[0,1:,])\n"
   ]
  },
  {
   "cell_type": "code",
   "execution_count": 8,
   "id": "bcbf5f17",
   "metadata": {},
   "outputs": [],
   "source": [
    "#Üç boyutlu arraydaki 6,20 elemanlarına ulaşalım\n",
    "print(üçboyutluarray[1,0,1:3])\n"
   ]
  },
  {
   "cell_type": "markdown",
   "id": "66d2aab8",
   "metadata": {},
   "source": [
    "##### 5. 5 satır 3 sütunluk sıfırlardan ve birlerden oluşan iki tane iki boyutlu array oluşturalım. Bu arrayleri satır ve sütun bazında birleştirelim."
   ]
  },
  {
   "cell_type": "code",
   "execution_count": null,
   "id": "99a6ed29",
   "metadata": {},
   "outputs": [],
   "source": [
    "import numpy as np\n",
    "sıfır_array=np.zeros((5,3),dtype=\"int\")\n",
    "\n",
    "\n",
    "bir_array=np.ones((5,3),dtype=\"int\")\n",
    "\n",
    "birlestirme_array=np.concatenate([sıfır_array,bir_array],axis=1)\n",
    "print(birlestirme_array)\n",
    "birlestirme_array_1=np.concatenate([sıfır_array,bir_array],)\n",
    "print(birlestirme_array_1)"
   ]
  }
 ],
 "metadata": {
  "kernelspec": {
   "display_name": "Python 3 (ipykernel)",
   "language": "python",
   "name": "python3"
  },
  "language_info": {
   "codemirror_mode": {
    "name": "ipython",
    "version": 3
   },
   "file_extension": ".py",
   "mimetype": "text/x-python",
   "name": "python",
   "nbconvert_exporter": "python",
   "pygments_lexer": "ipython3",
   "version": "3.9.12"
  }
 },
 "nbformat": 4,
 "nbformat_minor": 5
}
